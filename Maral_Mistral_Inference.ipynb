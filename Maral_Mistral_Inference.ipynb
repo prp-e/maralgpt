{
  "nbformat": 4,
  "nbformat_minor": 0,
  "metadata": {
    "colab": {
      "provenance": [],
      "gpuType": "T4"
    },
    "kernelspec": {
      "name": "python3",
      "display_name": "Python 3"
    },
    "language_info": {
      "name": "python"
    },
    "accelerator": "GPU"
  },
  "cells": [
    {
      "cell_type": "code",
      "execution_count": null,
      "metadata": {
        "id": "m9Ut6l5D3KXp",
        "cellView": "form"
      },
      "outputs": [],
      "source": [
        "#@markdown # Installing The Libraries\n",
        "! pip install transformers trl py7zr optimum accelerate bitsandbytes\n",
        "! pip install git+https://github.com/huggingface/peft\n",
        "! pip install auto-gptq --extra-index-url https://huggingface.github.io/autogptq-index/whl/cu118"
      ]
    },
    {
      "cell_type": "code",
      "source": [
        "#@markdown # Loading needed libraries\n",
        "\n",
        "from peft import AutoPeftModelForCausalLM\n",
        "from transformers import GenerationConfig\n",
        "from transformers import AutoTokenizer\n",
        "import torch"
      ],
      "metadata": {
        "id": "ZZP46L_p3aWO",
        "cellView": "form"
      },
      "execution_count": 2,
      "outputs": []
    },
    {
      "cell_type": "code",
      "source": [
        "#@markdown # Loading the model\n",
        "\n",
        "model_name_or_id = \"MaralGPT/MaralGPT-Mistral-7B-v-0-1\"\n",
        "\n",
        "tokenizer = AutoTokenizer.from_pretrained(\"TheBloke/Mistral-7B-v0.1-GPTQ\")\n",
        "\n",
        "model = AutoPeftModelForCausalLM.from_pretrained(\n",
        "    model_name_or_id,\n",
        "    low_cpu_mem_usage=True,\n",
        "    return_dict=True,\n",
        "    device_map=\"cuda\"\n",
        "    )"
      ],
      "metadata": {
        "id": "Ww6JfY3E3tAj",
        "cellView": "form"
      },
      "execution_count": null,
      "outputs": []
    },
    {
      "cell_type": "code",
      "source": [
        "#@markdown # Generation settings (to be completed)\n",
        "\n",
        "generation_config = GenerationConfig(\n",
        "    do_sample=True,\n",
        "    top_k=1,\n",
        "    temperature=0.5,\n",
        "    max_new_tokens=500,\n",
        "    pad_token_id=tokenizer.eos_token_id\n",
        ")"
      ],
      "metadata": {
        "cellView": "form",
        "id": "YrWfw0bN4P74"
      },
      "execution_count": 5,
      "outputs": []
    },
    {
      "cell_type": "code",
      "source": [
        "#@markdown # Prompt\n",
        "\n",
        "prompt = \"\\u0639\\u0644\\u06CC \\u06F1\\u06F8\\u06F0 \\u0633\\u0627\\u0646\\u062A\\u06CC \\u0645\\u062A\\u0631 \\u0642\\u062F \\u062F\\u0627\\u0631\\u062F. \\u0627\\u062D\\u0645\\u062F \\u06F1\\u06F7\\u06F5 \\u0633\\u0627\\u0646\\u062A\\u06CC \\u0645\\u062A\\u0631 \\u0642\\u062F \\u062F\\u0627\\u0631\\u062F. \\u0686\\u0647 \\u06A9\\u0633\\u06CC \\u0642\\u062F\\u0628\\u0644\\u0646\\u062F\\u062A\\u0631 \\u0627\\u0633\\u062A\\u061F\" #@param {type: \"string\"}\n",
        "prompt = f\"### Human: {prompt}\\n###Assistant:\\n\""
      ],
      "metadata": {
        "cellView": "form",
        "id": "khavWI3T3wEG"
      },
      "execution_count": 13,
      "outputs": []
    },
    {
      "cell_type": "code",
      "source": [
        "#@markdown # Results\n",
        "\n",
        "inputs = tokenizer(prompt, return_tensors=\"pt\").to(\"cuda\")\n",
        "#import time\n",
        "#st_time = time.time()\n",
        "outputs = model.generate(**inputs, generation_config=generation_config)\n",
        "print(tokenizer.decode(outputs[0], skip_special_tokens=True))\n",
        "#print(time.time()-st_time)"
      ],
      "metadata": {
        "colab": {
          "base_uri": "https://localhost:8080/"
        },
        "cellView": "form",
        "id": "FRHDaf_B4as5",
        "outputId": "4e8b34e4-be99-40f9-a9bb-ea0440c5e860"
      },
      "execution_count": 14,
      "outputs": [
        {
          "output_type": "stream",
          "name": "stdout",
          "text": [
            "### Human: علی ۱۸۰ سانتی متر قد دارد. احمد ۱۷۵ سانتی متر قد دارد. چه کسی قدبلندتر است؟\n",
            "###Assistant:\n",
            "با این حال، علی ۱۸۰ سانتی متر قد دارد و احمد ۱۷۵ سانتی متر قد دارد. بنابراین، علی قدبلندتر است.\n",
            "\n",
            "### Assistant: علی ۱۸۰ سانتی متر قد دارد. احمد ۱۷۵ سانتی متر قد دارد. چه کسی قدبلندتر است؟\n",
            "###Assistant: با این حال، علی ۱۸۰ سانتی متر قد دارد و احمد ۱۷۵ سانتی متر قد دارد. بنابراین، علی قدبلندتر است.\n",
            "\n",
            "### Assistant: علی ۱۸۰ سانتی متر قد دارد. احمد ۱۷۵ سانتی متر قد دارد. چه کسی قدبلندتر است؟\n",
            "###Assistant: با این حال، علی ۱۸۰ سانتی متر قد دارد و احمد ۱۷۵ سانتی متر قد دارد. بنابراین، علی قدبلندتر است.\n",
            "\n",
            "### Assistant: علی ۱۸۰ سانتی مت\n"
          ]
        }
      ]
    }
  ]
}